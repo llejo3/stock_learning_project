{
 "cells": [
  {
   "cell_type": "code",
   "execution_count": 1,
   "metadata": {
    "collapsed": true
   },
   "outputs": [],
   "source": [
    "import numpy as np\n",
    "import pandas as pd\n",
    "from sympy import isprime\n",
    "import matplotlib.pyplot as plt\n",
    "%matplotlib inline\n",
    "import threading\n",
    "from itertools import permutations\n",
    "import time"
   ]
  },
  {
   "cell_type": "code",
   "execution_count": 2,
   "metadata": {},
   "outputs": [
    {
     "data": {
      "text/html": [
       "<div>\n",
       "<style scoped>\n",
       "    .dataframe tbody tr th:only-of-type {\n",
       "        vertical-align: middle;\n",
       "    }\n",
       "\n",
       "    .dataframe tbody tr th {\n",
       "        vertical-align: top;\n",
       "    }\n",
       "\n",
       "    .dataframe thead th {\n",
       "        text-align: right;\n",
       "    }\n",
       "</style>\n",
       "<table border=\"1\" class=\"dataframe\">\n",
       "  <thead>\n",
       "    <tr style=\"text-align: right;\">\n",
       "      <th></th>\n",
       "      <th>CityId</th>\n",
       "      <th>X</th>\n",
       "      <th>Y</th>\n",
       "    </tr>\n",
       "  </thead>\n",
       "  <tbody>\n",
       "    <tr>\n",
       "      <th>count</th>\n",
       "      <td>197769.000000</td>\n",
       "      <td>197769.000000</td>\n",
       "      <td>197769.000000</td>\n",
       "    </tr>\n",
       "    <tr>\n",
       "      <th>mean</th>\n",
       "      <td>98884.000000</td>\n",
       "      <td>2741.169734</td>\n",
       "      <td>1859.277703</td>\n",
       "    </tr>\n",
       "    <tr>\n",
       "      <th>std</th>\n",
       "      <td>57091.137031</td>\n",
       "      <td>1474.870239</td>\n",
       "      <td>985.144313</td>\n",
       "    </tr>\n",
       "    <tr>\n",
       "      <th>min</th>\n",
       "      <td>0.000000</td>\n",
       "      <td>1.871925</td>\n",
       "      <td>0.000000</td>\n",
       "    </tr>\n",
       "    <tr>\n",
       "      <th>25%</th>\n",
       "      <td>49442.000000</td>\n",
       "      <td>1439.292001</td>\n",
       "      <td>1054.234324</td>\n",
       "    </tr>\n",
       "    <tr>\n",
       "      <th>50%</th>\n",
       "      <td>98884.000000</td>\n",
       "      <td>2772.522934</td>\n",
       "      <td>1946.624393</td>\n",
       "    </tr>\n",
       "    <tr>\n",
       "      <th>75%</th>\n",
       "      <td>148326.000000</td>\n",
       "      <td>4246.994405</td>\n",
       "      <td>2736.536831</td>\n",
       "    </tr>\n",
       "    <tr>\n",
       "      <th>max</th>\n",
       "      <td>197768.000000</td>\n",
       "      <td>5099.502142</td>\n",
       "      <td>3397.809824</td>\n",
       "    </tr>\n",
       "  </tbody>\n",
       "</table>\n",
       "</div>"
      ],
      "text/plain": [
       "              CityId              X              Y\n",
       "count  197769.000000  197769.000000  197769.000000\n",
       "mean    98884.000000    2741.169734    1859.277703\n",
       "std     57091.137031    1474.870239     985.144313\n",
       "min         0.000000       1.871925       0.000000\n",
       "25%     49442.000000    1439.292001    1054.234324\n",
       "50%     98884.000000    2772.522934    1946.624393\n",
       "75%    148326.000000    4246.994405    2736.536831\n",
       "max    197768.000000    5099.502142    3397.809824"
      ]
     },
     "execution_count": 2,
     "metadata": {},
     "output_type": "execute_result"
    }
   ],
   "source": [
    "cities = pd.read_csv('../input/cities.csv')\n",
    "cities.describe()"
   ]
  },
  {
   "cell_type": "code",
   "execution_count": 36,
   "metadata": {},
   "outputs": [
    {
     "data": {
      "text/plain": [
       "array([     0,  78934, 111804, ...,  40230,  48816,      0], dtype=int64)"
      ]
     },
     "execution_count": 36,
     "metadata": {},
     "output_type": "execute_result"
    }
   ],
   "source": [
    "path = pd.read_csv('../input/submission_20181210.csv')\n",
    "#path = pd.read_csv('../input/sample_submission.csv')\n",
    "path = path['Path'].values\n",
    "path"
   ]
  },
  {
   "cell_type": "code",
   "execution_count": 4,
   "metadata": {},
   "outputs": [
    {
     "name": "stdout",
     "output_type": "stream",
     "text": [
      "len:  197769\n"
     ]
    },
    {
     "data": {
      "text/plain": [
       "array([[ 316.83673906, 2202.34070734],\n",
       "       [4377.40597217,  336.60208217],\n",
       "       [3454.15819771, 2820.05301125],\n",
       "       [4688.09929763, 2935.89805581],\n",
       "       [1010.69695175, 3236.75098903],\n",
       "       [2474.23087706, 1435.51465103],\n",
       "       [1029.2777954 , 2721.80095182],\n",
       "       [3408.8876851 ,  199.58579311],\n",
       "       [1304.00612487, 2657.42724641],\n",
       "       [4211.5257252 , 2294.59520756]])"
      ]
     },
     "execution_count": 4,
     "metadata": {},
     "output_type": "execute_result"
    }
   ],
   "source": [
    "cities_len = len(cities)\n",
    "print(\"len: \", cities_len)\n",
    "cities_xy = np.stack((cities.X.values, cities.Y.values), axis=1)\n",
    "cities_xy[0:10]"
   ]
  },
  {
   "cell_type": "code",
   "execution_count": 5,
   "metadata": {
    "collapsed": true
   },
   "outputs": [],
   "source": [
    "def get_score(path):\n",
    "    xy = cities_xy[path]\n",
    "    values = np.linalg.norm(xy-np.roll(xy, -1, axis=0), axis=1)\n",
    "    prime_value = (values[9::10] * [int(isprime(i)==False)*0.1 for i in path[9::10]]).sum()\n",
    "    return values.sum() + prime_value"
   ]
  },
  {
   "cell_type": "code",
   "execution_count": 37,
   "metadata": {},
   "outputs": [
    {
     "data": {
      "text/plain": [
       "1524462.5023936473"
      ]
     },
     "execution_count": 37,
     "metadata": {},
     "output_type": "execute_result"
    }
   ],
   "source": [
    "get_score(path)"
   ]
  },
  {
   "cell_type": "code",
   "execution_count": null,
   "metadata": {
    "collapsed": true
   },
   "outputs": [],
   "source": [
    "# def fix_path_small_permutation(seq_len:int=6):\n",
    "#     start_index = np.random.choice(cities_len-seq_len)+1\n",
    "#     remainder = start_index%10\n",
    "#     if remainder == 0:\n",
    "#         score_start_index = start_index - 10\n",
    "#     else:\n",
    "#         score_start_index = start_index - remainder\n",
    "#     small = path[start_index : start_index + seq_len]\n",
    "#     small_start = path[score_start_index:start_index]\n",
    "#     small_end = path[start_index + seq_len:start_index + seq_len+1]\n",
    "#     small_score = np.concatenate((small_start, small, small_end))\n",
    "#     score = get_score(small_score)\n",
    "#     for item in permutations(small):\n",
    "#         small_path_test = np.concatenate((small_start, item, small_end))\n",
    "#         score_test = get_score(small_path_test)\n",
    "#         if score_test < score:\n",
    "#             path[start_index : start_index + seq_len] = item\n",
    "#             #print(\"start_index: \", start_index, \"score : \", get_score(path))\n",
    "#             score = score_test"
   ]
  },
  {
   "cell_type": "code",
   "execution_count": 43,
   "metadata": {
    "collapsed": true
   },
   "outputs": [],
   "source": [
    "def fix_path_small_permutation(seq_len:int=6, band_len:int=1, start_index:int=None):\n",
    "    if band_len is None:\n",
    "        band_len = np.random.choice(int((cities_len-1)/seq_len)) + 1\n",
    "    small_len = band_len*seq_len\n",
    "    if start_index is None:\n",
    "        start_index = np.random.choice(cities_len - 1 - small_len)+1\n",
    "    remainder = start_index%10\n",
    "    if remainder == 0:\n",
    "        score_start_index = start_index - 10\n",
    "    else:\n",
    "        score_start_index = start_index - remainder\n",
    "    small = path[start_index : start_index + small_len]\n",
    "    small_start = path[score_start_index:start_index]\n",
    "    small_end = path[start_index + small_len:start_index + small_len+1]\n",
    "    \n",
    "    small_score = path[score_start_index: start_index + small_len+1]\n",
    "    score = get_score(small_score)\n",
    "    if band_len > 1:\n",
    "        small = small.reshape((-1,band_len))\n",
    "    for item in permutations(small):\n",
    "        if band_len > 1:\n",
    "            item = np.concatenate(item)\n",
    "        small_path_test = np.concatenate((small_start, item, small_end))\n",
    "        score_test = get_score(small_path_test)\n",
    "        if score_test < score:\n",
    "            path[start_index : start_index + small_len] = item\n",
    "            print(\"path updated, score : \", get_score(path))\n",
    "            score = score_test"
   ]
  },
  {
   "cell_type": "code",
   "execution_count": 46,
   "metadata": {
    "collapsed": true
   },
   "outputs": [],
   "source": [
    "def fix_path_use_thread(band_len:int=None, first_index:int=None):\n",
    "    seq_len = 6\n",
    "    if band_len is None:\n",
    "        band_len = np.random.choice(int((cities_len-1)/seq_len)) + 1\n",
    "    small_len = band_len * seq_len\n",
    "    if first_index is None:\n",
    "        first_index = np.random.choice(small_len)\n",
    "    print('band_len:', band_len, \", first_index:\", first_index)    \n",
    "    threads_len = int((cities_len-1)/small_len)\n",
    "    threads = []\n",
    "    for i in range(threads_len+2):\n",
    "        if i == 0:\n",
    "            start_index = 1    \n",
    "        else :\n",
    "            start_index = first_index + (small_len * (i-1)) + 1\n",
    "        \n",
    "        if start_index > cities_len:\n",
    "            break\n",
    "        elif start_index + small_len + 1 > cities_len:\n",
    "            start_index = first_index + cities_len-small_len-1\n",
    "        t = threading.Thread(target=fix_path_small_permutation, args=(seq_len, band_len, start_index))\n",
    "        threads.append(t)\n",
    "    for t in threads:\n",
    "        t.start()\n",
    "    for t in threads:\n",
    "        t.join()"
   ]
  },
  {
   "cell_type": "code",
   "execution_count": 47,
   "metadata": {
    "scrolled": true
   },
   "outputs": [
    {
     "name": "stdout",
     "output_type": "stream",
     "text": [
      "start score :  1524455.6944955632\n",
      "band_len: 17095 , first_index: 90052\n"
     ]
    },
    {
     "name": "stderr",
     "output_type": "stream",
     "text": [
      "Exception in thread Thread-203289:\n",
      "Traceback (most recent call last):\n",
      "  File \"C:\\Users\\southman\\Anaconda3\\lib\\threading.py\", line 916, in _bootstrap_inner\n",
      "    self.run()\n",
      "  File \"C:\\Users\\southman\\Anaconda3\\lib\\threading.py\", line 864, in run\n",
      "    self._target(*self._args, **self._kwargs)\n",
      "  File \"<ipython-input-43-2dda0dff44b6>\", line 19, in fix_path_small_permutation\n",
      "    small = small.reshape((-1,band_len))\n",
      "ValueError: cannot reshape array of size 12520 into shape (17095)\n",
      "\n"
     ]
    },
    {
     "ename": "KeyboardInterrupt",
     "evalue": "",
     "output_type": "error",
     "traceback": [
      "\u001b[1;31m---------------------------------------------------------------------------\u001b[0m",
      "\u001b[1;31mKeyboardInterrupt\u001b[0m                         Traceback (most recent call last)",
      "\u001b[1;32m<ipython-input-47-26ade3f439b4>\u001b[0m in \u001b[0;36m<module>\u001b[1;34m()\u001b[0m\n\u001b[0;32m      1\u001b[0m \u001b[0mprint\u001b[0m\u001b[1;33m(\u001b[0m\u001b[1;34m\"start score : \"\u001b[0m\u001b[1;33m,\u001b[0m \u001b[0mget_score\u001b[0m\u001b[1;33m(\u001b[0m\u001b[0mpath\u001b[0m\u001b[1;33m)\u001b[0m\u001b[1;33m)\u001b[0m\u001b[1;33m\u001b[0m\u001b[0m\n\u001b[0;32m      2\u001b[0m \u001b[1;32mfor\u001b[0m \u001b[0mi\u001b[0m \u001b[1;32min\u001b[0m \u001b[0mrange\u001b[0m\u001b[1;33m(\u001b[0m\u001b[1;36m100\u001b[0m\u001b[1;33m)\u001b[0m\u001b[1;33m:\u001b[0m\u001b[1;33m\u001b[0m\u001b[0m\n\u001b[1;32m----> 3\u001b[1;33m     \u001b[0mfix_path_use_thread\u001b[0m\u001b[1;33m(\u001b[0m\u001b[1;33m)\u001b[0m\u001b[1;33m\u001b[0m\u001b[0m\n\u001b[0m\u001b[0;32m      4\u001b[0m     \u001b[1;31m#print(i)\u001b[0m\u001b[1;33m\u001b[0m\u001b[1;33m\u001b[0m\u001b[0m\n\u001b[0;32m      5\u001b[0m \u001b[0mprint\u001b[0m\u001b[1;33m(\u001b[0m\u001b[1;34m\"final score : \"\u001b[0m\u001b[1;33m,\u001b[0m \u001b[0mget_score\u001b[0m\u001b[1;33m(\u001b[0m\u001b[0mpath\u001b[0m\u001b[1;33m)\u001b[0m\u001b[1;33m)\u001b[0m\u001b[1;33m\u001b[0m\u001b[0m\n",
      "\u001b[1;32m<ipython-input-46-cf16886e42e4>\u001b[0m in \u001b[0;36mfix_path_use_thread\u001b[1;34m(band_len, first_index)\u001b[0m\n\u001b[0;32m     24\u001b[0m         \u001b[0mt\u001b[0m\u001b[1;33m.\u001b[0m\u001b[0mstart\u001b[0m\u001b[1;33m(\u001b[0m\u001b[1;33m)\u001b[0m\u001b[1;33m\u001b[0m\u001b[0m\n\u001b[0;32m     25\u001b[0m     \u001b[1;32mfor\u001b[0m \u001b[0mt\u001b[0m \u001b[1;32min\u001b[0m \u001b[0mthreads\u001b[0m\u001b[1;33m:\u001b[0m\u001b[1;33m\u001b[0m\u001b[0m\n\u001b[1;32m---> 26\u001b[1;33m         \u001b[0mt\u001b[0m\u001b[1;33m.\u001b[0m\u001b[0mjoin\u001b[0m\u001b[1;33m(\u001b[0m\u001b[1;33m)\u001b[0m\u001b[1;33m\u001b[0m\u001b[0m\n\u001b[0m",
      "\u001b[1;32m~\\Anaconda3\\lib\\threading.py\u001b[0m in \u001b[0;36mjoin\u001b[1;34m(self, timeout)\u001b[0m\n\u001b[0;32m   1054\u001b[0m \u001b[1;33m\u001b[0m\u001b[0m\n\u001b[0;32m   1055\u001b[0m         \u001b[1;32mif\u001b[0m \u001b[0mtimeout\u001b[0m \u001b[1;32mis\u001b[0m \u001b[1;32mNone\u001b[0m\u001b[1;33m:\u001b[0m\u001b[1;33m\u001b[0m\u001b[0m\n\u001b[1;32m-> 1056\u001b[1;33m             \u001b[0mself\u001b[0m\u001b[1;33m.\u001b[0m\u001b[0m_wait_for_tstate_lock\u001b[0m\u001b[1;33m(\u001b[0m\u001b[1;33m)\u001b[0m\u001b[1;33m\u001b[0m\u001b[0m\n\u001b[0m\u001b[0;32m   1057\u001b[0m         \u001b[1;32melse\u001b[0m\u001b[1;33m:\u001b[0m\u001b[1;33m\u001b[0m\u001b[0m\n\u001b[0;32m   1058\u001b[0m             \u001b[1;31m# the behavior of a negative timeout isn't documented, but\u001b[0m\u001b[1;33m\u001b[0m\u001b[1;33m\u001b[0m\u001b[0m\n",
      "\u001b[1;32m~\\Anaconda3\\lib\\threading.py\u001b[0m in \u001b[0;36m_wait_for_tstate_lock\u001b[1;34m(self, block, timeout)\u001b[0m\n\u001b[0;32m   1070\u001b[0m         \u001b[1;32mif\u001b[0m \u001b[0mlock\u001b[0m \u001b[1;32mis\u001b[0m \u001b[1;32mNone\u001b[0m\u001b[1;33m:\u001b[0m  \u001b[1;31m# already determined that the C code is done\u001b[0m\u001b[1;33m\u001b[0m\u001b[0m\n\u001b[0;32m   1071\u001b[0m             \u001b[1;32massert\u001b[0m \u001b[0mself\u001b[0m\u001b[1;33m.\u001b[0m\u001b[0m_is_stopped\u001b[0m\u001b[1;33m\u001b[0m\u001b[0m\n\u001b[1;32m-> 1072\u001b[1;33m         \u001b[1;32melif\u001b[0m \u001b[0mlock\u001b[0m\u001b[1;33m.\u001b[0m\u001b[0macquire\u001b[0m\u001b[1;33m(\u001b[0m\u001b[0mblock\u001b[0m\u001b[1;33m,\u001b[0m \u001b[0mtimeout\u001b[0m\u001b[1;33m)\u001b[0m\u001b[1;33m:\u001b[0m\u001b[1;33m\u001b[0m\u001b[0m\n\u001b[0m\u001b[0;32m   1073\u001b[0m             \u001b[0mlock\u001b[0m\u001b[1;33m.\u001b[0m\u001b[0mrelease\u001b[0m\u001b[1;33m(\u001b[0m\u001b[1;33m)\u001b[0m\u001b[1;33m\u001b[0m\u001b[0m\n\u001b[0;32m   1074\u001b[0m             \u001b[0mself\u001b[0m\u001b[1;33m.\u001b[0m\u001b[0m_stop\u001b[0m\u001b[1;33m(\u001b[0m\u001b[1;33m)\u001b[0m\u001b[1;33m\u001b[0m\u001b[0m\n",
      "\u001b[1;31mKeyboardInterrupt\u001b[0m: "
     ]
    }
   ],
   "source": [
    "print(\"start score : \", get_score(path))\n",
    "for i in range(100):\n",
    "    fix_path_use_thread()\n",
    "    #print(i)\n",
    "print(\"final score : \", get_score(path))"
   ]
  },
  {
   "cell_type": "code",
   "execution_count": 28,
   "metadata": {},
   "outputs": [
    {
     "data": {
      "text/plain": [
       "197770"
      ]
     },
     "execution_count": 28,
     "metadata": {},
     "output_type": "execute_result"
    }
   ],
   "source": [
    "len(path)"
   ]
  },
  {
   "cell_type": "code",
   "execution_count": null,
   "metadata": {
    "collapsed": true
   },
   "outputs": [],
   "source": [
    "values = get_dist_values(path)\n",
    "values.mean()\n"
   ]
  },
  {
   "cell_type": "code",
   "execution_count": null,
   "metadata": {
    "collapsed": true
   },
   "outputs": [],
   "source": [
    "get_score(path)"
   ]
  },
  {
   "cell_type": "code",
   "execution_count": null,
   "metadata": {
    "collapsed": true
   },
   "outputs": [],
   "source": [
    "# path = np.append(np.arange(cities_len), [0])\n",
    "# best_path = None\n",
    "# best_score = get_score(path)\n",
    "# for i in range(cities_len):\n",
    "#     path = permutation(path)\n",
    "#     score = get_score(path)\n",
    "#     if score < best_score :\n",
    "#         best_score = score\n",
    "#         best_path = path\n",
    "# print(best_score, best_path)    "
   ]
  },
  {
   "cell_type": "code",
   "execution_count": null,
   "metadata": {
    "collapsed": true
   },
   "outputs": [],
   "source": [
    "path = np.append(np.arange(cities_len), [0])\n",
    "shuffle(path)\n",
    "best_path = None\n",
    "best_score = get_score(path)"
   ]
  },
  {
   "cell_type": "code",
   "execution_count": null,
   "metadata": {
    "collapsed": true
   },
   "outputs": [],
   "source": [
    "down_count = 0\n",
    "max_down_count = 100\n",
    "\n",
    "while True:\n",
    "    shuffle_partially(path)\n",
    "    score = get_score(path)\n",
    "    if score < best_score :\n",
    "        best_score = score\n",
    "        print(best_score)\n",
    "        best_path = np.copy(path)\n",
    "        down_count = 0\n",
    "    else:\n",
    "        down_count += 1\n",
    "        if down_count > max_down_count:\n",
    "            break\n",
    "print(best_score, best_path)    "
   ]
  },
  {
   "cell_type": "code",
   "execution_count": null,
   "metadata": {
    "collapsed": true
   },
   "outputs": [],
   "source": [
    "def get_dist_values(path:np.ndarray):\n",
    "    xy = cities_xy[path]\n",
    "    values = np.linalg.norm(xy-np.roll(xy, -1, axis=0), axis=1)\n",
    "    values[9::10] += values[9::10] * [int(isprime(i)==False)*0.1 for i in path[9::10]]\n",
    "    return values"
   ]
  },
  {
   "cell_type": "code",
   "execution_count": null,
   "metadata": {
    "collapsed": true
   },
   "outputs": [],
   "source": [
    "far_values = values > values.mean()\n",
    "path_far = path[1:][far_values[:-1]]\n",
    "path_far\n",
    "#np.random.shuffle(path_far)\n",
    "#values[far] = path_far\n",
    "#a"
   ]
  },
  {
   "cell_type": "code",
   "execution_count": 42,
   "metadata": {
    "collapsed": true
   },
   "outputs": [],
   "source": [
    "pd.DataFrame({'Path': path}).to_csv('../input/submission_20181210.csv', index=False)"
   ]
  },
  {
   "cell_type": "code",
   "execution_count": null,
   "metadata": {
    "collapsed": true
   },
   "outputs": [],
   "source": [
    "plt.figure(figsize=(32,18))\n",
    "plt.rcParams['agg.path.chunksize'] = 10000 \n",
    "plt.plot(cities.X[path], cities.Y[path])\n",
    "plt.show()"
   ]
  }
 ],
 "metadata": {
  "kernelspec": {
   "display_name": "Python 3",
   "language": "python",
   "name": "python3"
  },
  "language_info": {
   "codemirror_mode": {
    "name": "ipython",
    "version": 3
   },
   "file_extension": ".py",
   "mimetype": "text/x-python",
   "name": "python",
   "nbconvert_exporter": "python",
   "pygments_lexer": "ipython3",
   "version": "3.6.5"
  }
 },
 "nbformat": 4,
 "nbformat_minor": 2
}
