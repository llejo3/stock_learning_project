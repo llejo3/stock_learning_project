{
 "cells": [
  {
   "cell_type": "code",
   "execution_count": 1,
   "metadata": {},
   "outputs": [],
   "source": [
    "import numpy as np\n",
    "import pandas as pd\n",
    "from sympy import isprime\n",
    "from scipy.spatial import distance"
   ]
  },
  {
   "cell_type": "code",
   "execution_count": 2,
   "metadata": {},
   "outputs": [],
   "source": [
    "cities = pd.read_csv('../input/cities.csv')"
   ]
  },
  {
   "cell_type": "code",
   "execution_count": 3,
   "metadata": {},
   "outputs": [
    {
     "data": {
      "text/html": [
       "<div>\n",
       "<style scoped>\n",
       "    .dataframe tbody tr th:only-of-type {\n",
       "        vertical-align: middle;\n",
       "    }\n",
       "\n",
       "    .dataframe tbody tr th {\n",
       "        vertical-align: top;\n",
       "    }\n",
       "\n",
       "    .dataframe thead th {\n",
       "        text-align: right;\n",
       "    }\n",
       "</style>\n",
       "<table border=\"1\" class=\"dataframe\">\n",
       "  <thead>\n",
       "    <tr style=\"text-align: right;\">\n",
       "      <th></th>\n",
       "      <th>CityId</th>\n",
       "      <th>X</th>\n",
       "      <th>Y</th>\n",
       "    </tr>\n",
       "  </thead>\n",
       "  <tbody>\n",
       "    <tr>\n",
       "      <th>count</th>\n",
       "      <td>197769.000000</td>\n",
       "      <td>197769.000000</td>\n",
       "      <td>197769.000000</td>\n",
       "    </tr>\n",
       "    <tr>\n",
       "      <th>mean</th>\n",
       "      <td>98884.000000</td>\n",
       "      <td>2741.169734</td>\n",
       "      <td>1859.277703</td>\n",
       "    </tr>\n",
       "    <tr>\n",
       "      <th>std</th>\n",
       "      <td>57091.137031</td>\n",
       "      <td>1474.870239</td>\n",
       "      <td>985.144313</td>\n",
       "    </tr>\n",
       "    <tr>\n",
       "      <th>min</th>\n",
       "      <td>0.000000</td>\n",
       "      <td>1.871925</td>\n",
       "      <td>0.000000</td>\n",
       "    </tr>\n",
       "    <tr>\n",
       "      <th>25%</th>\n",
       "      <td>49442.000000</td>\n",
       "      <td>1439.292001</td>\n",
       "      <td>1054.234324</td>\n",
       "    </tr>\n",
       "    <tr>\n",
       "      <th>50%</th>\n",
       "      <td>98884.000000</td>\n",
       "      <td>2772.522934</td>\n",
       "      <td>1946.624393</td>\n",
       "    </tr>\n",
       "    <tr>\n",
       "      <th>75%</th>\n",
       "      <td>148326.000000</td>\n",
       "      <td>4246.994405</td>\n",
       "      <td>2736.536831</td>\n",
       "    </tr>\n",
       "    <tr>\n",
       "      <th>max</th>\n",
       "      <td>197768.000000</td>\n",
       "      <td>5099.502142</td>\n",
       "      <td>3397.809824</td>\n",
       "    </tr>\n",
       "  </tbody>\n",
       "</table>\n",
       "</div>"
      ],
      "text/plain": [
       "              CityId              X              Y\n",
       "count  197769.000000  197769.000000  197769.000000\n",
       "mean    98884.000000    2741.169734    1859.277703\n",
       "std     57091.137031    1474.870239     985.144313\n",
       "min         0.000000       1.871925       0.000000\n",
       "25%     49442.000000    1439.292001    1054.234324\n",
       "50%     98884.000000    2772.522934    1946.624393\n",
       "75%    148326.000000    4246.994405    2736.536831\n",
       "max    197768.000000    5099.502142    3397.809824"
      ]
     },
     "metadata": {},
     "output_type": "display_data"
    },
    {
     "data": {
      "text/html": [
       "<div>\n",
       "<style scoped>\n",
       "    .dataframe tbody tr th:only-of-type {\n",
       "        vertical-align: middle;\n",
       "    }\n",
       "\n",
       "    .dataframe tbody tr th {\n",
       "        vertical-align: top;\n",
       "    }\n",
       "\n",
       "    .dataframe thead th {\n",
       "        text-align: right;\n",
       "    }\n",
       "</style>\n",
       "<table border=\"1\" class=\"dataframe\">\n",
       "  <thead>\n",
       "    <tr style=\"text-align: right;\">\n",
       "      <th></th>\n",
       "      <th>CityId</th>\n",
       "      <th>X</th>\n",
       "      <th>Y</th>\n",
       "    </tr>\n",
       "  </thead>\n",
       "  <tbody>\n",
       "    <tr>\n",
       "      <th>0</th>\n",
       "      <td>0</td>\n",
       "      <td>316.836739</td>\n",
       "      <td>2202.340707</td>\n",
       "    </tr>\n",
       "    <tr>\n",
       "      <th>1</th>\n",
       "      <td>1</td>\n",
       "      <td>4377.405972</td>\n",
       "      <td>336.602082</td>\n",
       "    </tr>\n",
       "    <tr>\n",
       "      <th>2</th>\n",
       "      <td>2</td>\n",
       "      <td>3454.158198</td>\n",
       "      <td>2820.053011</td>\n",
       "    </tr>\n",
       "    <tr>\n",
       "      <th>3</th>\n",
       "      <td>3</td>\n",
       "      <td>4688.099298</td>\n",
       "      <td>2935.898056</td>\n",
       "    </tr>\n",
       "    <tr>\n",
       "      <th>4</th>\n",
       "      <td>4</td>\n",
       "      <td>1010.696952</td>\n",
       "      <td>3236.750989</td>\n",
       "    </tr>\n",
       "  </tbody>\n",
       "</table>\n",
       "</div>"
      ],
      "text/plain": [
       "   CityId            X            Y\n",
       "0       0   316.836739  2202.340707\n",
       "1       1  4377.405972   336.602082\n",
       "2       2  3454.158198  2820.053011\n",
       "3       3  4688.099298  2935.898056\n",
       "4       4  1010.696952  3236.750989"
      ]
     },
     "execution_count": 3,
     "metadata": {},
     "output_type": "execute_result"
    }
   ],
   "source": [
    "display(cities.describe())\n",
    "cities.head()"
   ]
  },
  {
   "cell_type": "code",
   "execution_count": 4,
   "metadata": {},
   "outputs": [
    {
     "name": "stdout",
     "output_type": "stream",
     "text": [
      "len:  197769\n"
     ]
    },
    {
     "data": {
      "text/plain": [
       "array([[ 316.83673906, 2202.34070734],\n",
       "       [4377.40597217,  336.60208217],\n",
       "       [3454.15819771, 2820.05301125],\n",
       "       [4688.09929763, 2935.89805581],\n",
       "       [1010.69695175, 3236.75098903],\n",
       "       [2474.23087706, 1435.51465103],\n",
       "       [1029.2777954 , 2721.80095182],\n",
       "       [3408.8876851 ,  199.58579311],\n",
       "       [1304.00612487, 2657.42724641],\n",
       "       [4211.5257252 , 2294.59520756]])"
      ]
     },
     "execution_count": 4,
     "metadata": {},
     "output_type": "execute_result"
    }
   ],
   "source": [
    "cities_len = len(cities)\n",
    "print(\"len: \", cities_len)\n",
    "cities_xy = np.stack((cities.X.values, cities.Y.values), axis=1)\n",
    "cities_xy[0:10]"
   ]
  },
  {
   "cell_type": "code",
   "execution_count": 5,
   "metadata": {},
   "outputs": [],
   "source": [
    "def get_score(path):\n",
    "    xy = cities_xy[path]\n",
    "    values = np.linalg.norm(xy-np.roll(xy, -1, axis=0), axis=1)\n",
    "    prime_value = (values[9::10] * [int(isprime(i))*0.1 for i in path[9::10]]).sum()\n",
    "    return values.sum() + prime_value\n",
    "#print(get_score(range(100)))"
   ]
  },
  {
   "cell_type": "code",
   "execution_count": 12,
   "metadata": {},
   "outputs": [],
   "source": [
    "unexperienced_ids = {};\n",
    "for i in range(cities_len):\n",
    "    unexperienced_ids[i] = i\n",
    "\n",
    "def next_city(now_pos):\n",
    "    now_xy = cities_xy[now_pos]\n",
    "    min_dist = 10**10\n",
    "    next_pos = None\n",
    "    for idx, city_xy in enumerate(cities_xy):\n",
    "        if cities_pass[idx] == 0:\n",
    "            dist = distance.euclidean(now_xy, city_xy)\n",
    "            if dist < min_dist:\n",
    "                min_dist = dist\n",
    "                next_pos = idx\n",
    "    return next_pos"
   ]
  },
  {
   "cell_type": "code",
   "execution_count": null,
   "metadata": {},
   "outputs": [],
   "source": [
    "path = [0]\n",
    "cities_pass[0] = 1\n",
    "\n",
    "for i in range(len(cities_xy)-1):\n",
    "    now_pos = path[i]\n",
    "    next_pos = next_city(now_pos, i)\n",
    "    if next_pos is not None:\n",
    "        cities_pass[next_pos] = 1\n",
    "        path.append(next_pos)\n",
    "path"
   ]
  },
  {
   "cell_type": "code",
   "execution_count": 23,
   "metadata": {},
   "outputs": [
    {
     "data": {
      "text/plain": [
       "2"
      ]
     },
     "execution_count": 23,
     "metadata": {},
     "output_type": "execute_result"
    }
   ],
   "source": [
    "a = {0:11,2:12,3:13}\n",
    "a[0]\n",
    "del a[0]\n",
    "len(a)"
   ]
  }
 ],
 "metadata": {
  "kernelspec": {
   "display_name": "Python 3",
   "language": "python",
   "name": "python3"
  },
  "language_info": {
   "codemirror_mode": {
    "name": "ipython",
    "version": 3
   },
   "file_extension": ".py",
   "mimetype": "text/x-python",
   "name": "python",
   "nbconvert_exporter": "python",
   "pygments_lexer": "ipython3",
   "version": "3.6.5"
  }
 },
 "nbformat": 4,
 "nbformat_minor": 2
}
