{
 "cells": [
  {
   "cell_type": "code",
   "execution_count": 1,
   "metadata": {
    "collapsed": true
   },
   "outputs": [],
   "source": [
    "import pandas as pd\n",
    "import numpy as np\n",
    "import matplotlib.pyplot as plt\n",
    "import seaborn as sns\n",
    "%matplotlib inline"
   ]
  },
  {
   "cell_type": "code",
   "execution_count": 23,
   "metadata": {
    "collapsed": true
   },
   "outputs": [],
   "source": [
    "mem_data = pd.read_csv('../input/mem_data.csv')\n",
    "mem_tr = pd.read_csv('../input/transactions.csv')\n",
    "song_info = pd.read_csv('../input/songs.csv')\n",
    "mem_tr_song = mem_tr.merge(song_info, how='left')"
   ]
  },
  {
   "cell_type": "code",
   "execution_count": 25,
   "metadata": {
    "collapsed": true
   },
   "outputs": [],
   "source": [
    "tr = mem_data.merge(mem_tr_song, how='left')"
   ]
  },
  {
   "cell_type": "code",
   "execution_count": 14,
   "metadata": {},
   "outputs": [
    {
     "data": {
      "text/plain": [
       "user_id\n",
       "1    220\n",
       "4    874\n",
       "5    393\n",
       "7    224\n",
       "8     62\n",
       "Name: song_id, dtype: int64"
      ]
     },
     "execution_count": 14,
     "metadata": {},
     "output_type": "execute_result"
    }
   ],
   "source": [
    "mem_tr.groupby('user_id')['song_id'].count()[:5]"
   ]
  },
  {
   "cell_type": "code",
   "execution_count": 9,
   "metadata": {},
   "outputs": [
    {
     "data": {
      "text/plain": [
       "3720"
      ]
     },
     "execution_count": 9,
     "metadata": {},
     "output_type": "execute_result"
    }
   ],
   "source": [
    "mem_data[mem_data['gender']=='unknown']['gender'].count()"
   ]
  },
  {
   "cell_type": "code",
   "execution_count": 16,
   "metadata": {},
   "outputs": [
    {
     "data": {
      "text/html": [
       "<div>\n",
       "<style scoped>\n",
       "    .dataframe tbody tr th:only-of-type {\n",
       "        vertical-align: middle;\n",
       "    }\n",
       "\n",
       "    .dataframe tbody tr th {\n",
       "        vertical-align: top;\n",
       "    }\n",
       "\n",
       "    .dataframe thead th {\n",
       "        text-align: right;\n",
       "    }\n",
       "</style>\n",
       "<table border=\"1\" class=\"dataframe\">\n",
       "  <thead>\n",
       "    <tr style=\"text-align: right;\">\n",
       "      <th></th>\n",
       "      <th>user_id</th>\n",
       "      <th>city</th>\n",
       "      <th>age</th>\n",
       "      <th>reg_method</th>\n",
       "      <th>reg_date</th>\n",
       "      <th>ex_date</th>\n",
       "      <th>gender</th>\n",
       "    </tr>\n",
       "  </thead>\n",
       "  <tbody>\n",
       "    <tr>\n",
       "      <th>0</th>\n",
       "      <td>13827</td>\n",
       "      <td>14</td>\n",
       "      <td>29</td>\n",
       "      <td>9</td>\n",
       "      <td>20130112</td>\n",
       "      <td>20180203</td>\n",
       "      <td>female</td>\n",
       "    </tr>\n",
       "    <tr>\n",
       "      <th>1</th>\n",
       "      <td>6618</td>\n",
       "      <td>13</td>\n",
       "      <td>19</td>\n",
       "      <td>4</td>\n",
       "      <td>20160313</td>\n",
       "      <td>20180106</td>\n",
       "      <td>female</td>\n",
       "    </tr>\n",
       "    <tr>\n",
       "      <th>2</th>\n",
       "      <td>7615</td>\n",
       "      <td>22</td>\n",
       "      <td>33</td>\n",
       "      <td>9</td>\n",
       "      <td>20060314</td>\n",
       "      <td>20170930</td>\n",
       "      <td>female</td>\n",
       "    </tr>\n",
       "    <tr>\n",
       "      <th>3</th>\n",
       "      <td>15535</td>\n",
       "      <td>13</td>\n",
       "      <td>48</td>\n",
       "      <td>9</td>\n",
       "      <td>20110402</td>\n",
       "      <td>20171003</td>\n",
       "      <td>female</td>\n",
       "    </tr>\n",
       "    <tr>\n",
       "      <th>4</th>\n",
       "      <td>17708</td>\n",
       "      <td>18</td>\n",
       "      <td>20</td>\n",
       "      <td>4</td>\n",
       "      <td>20160102</td>\n",
       "      <td>20161105</td>\n",
       "      <td>female</td>\n",
       "    </tr>\n",
       "  </tbody>\n",
       "</table>\n",
       "</div>"
      ],
      "text/plain": [
       "   user_id  city  age  reg_method  reg_date   ex_date  gender\n",
       "0    13827    14   29           9  20130112  20180203  female\n",
       "1     6618    13   19           4  20160313  20180106  female\n",
       "2     7615    22   33           9  20060314  20170930  female\n",
       "3    15535    13   48           9  20110402  20171003  female\n",
       "4    17708    18   20           4  20160102  20161105  female"
      ]
     },
     "execution_count": 16,
     "metadata": {},
     "output_type": "execute_result"
    }
   ],
   "source": [
    "mem_data.head()"
   ]
  },
  {
   "cell_type": "code",
   "execution_count": 17,
   "metadata": {},
   "outputs": [
    {
     "data": {
      "text/html": [
       "<div>\n",
       "<style scoped>\n",
       "    .dataframe tbody tr th:only-of-type {\n",
       "        vertical-align: middle;\n",
       "    }\n",
       "\n",
       "    .dataframe tbody tr th {\n",
       "        vertical-align: top;\n",
       "    }\n",
       "\n",
       "    .dataframe thead th {\n",
       "        text-align: right;\n",
       "    }\n",
       "</style>\n",
       "<table border=\"1\" class=\"dataframe\">\n",
       "  <thead>\n",
       "    <tr style=\"text-align: right;\">\n",
       "      <th></th>\n",
       "      <th>song_id</th>\n",
       "      <th>length</th>\n",
       "      <th>genre</th>\n",
       "      <th>artist</th>\n",
       "      <th>composer</th>\n",
       "      <th>lyricist</th>\n",
       "      <th>language</th>\n",
       "      <th>isrc</th>\n",
       "    </tr>\n",
       "  </thead>\n",
       "  <tbody>\n",
       "    <tr>\n",
       "      <th>0</th>\n",
       "      <td>5981</td>\n",
       "      <td>273554</td>\n",
       "      <td>465</td>\n",
       "      <td>330</td>\n",
       "      <td>1787</td>\n",
       "      <td>1533</td>\n",
       "      <td>3</td>\n",
       "      <td>TWC950206108</td>\n",
       "    </tr>\n",
       "    <tr>\n",
       "      <th>1</th>\n",
       "      <td>5767</td>\n",
       "      <td>228623</td>\n",
       "      <td>465</td>\n",
       "      <td>633</td>\n",
       "      <td>484</td>\n",
       "      <td>1057</td>\n",
       "      <td>3</td>\n",
       "      <td>TWA531398021</td>\n",
       "    </tr>\n",
       "    <tr>\n",
       "      <th>2</th>\n",
       "      <td>8128</td>\n",
       "      <td>257602</td>\n",
       "      <td>458</td>\n",
       "      <td>777</td>\n",
       "      <td>1916</td>\n",
       "      <td>2115</td>\n",
       "      <td>3</td>\n",
       "      <td>TWAY31508002</td>\n",
       "    </tr>\n",
       "    <tr>\n",
       "      <th>3</th>\n",
       "      <td>1992</td>\n",
       "      <td>199157</td>\n",
       "      <td>458</td>\n",
       "      <td>548</td>\n",
       "      <td>1011</td>\n",
       "      <td>1904</td>\n",
       "      <td>3</td>\n",
       "      <td>TWA471596001</td>\n",
       "    </tr>\n",
       "    <tr>\n",
       "      <th>4</th>\n",
       "      <td>2665</td>\n",
       "      <td>246015</td>\n",
       "      <td>465</td>\n",
       "      <td>671</td>\n",
       "      <td>1407</td>\n",
       "      <td>1362</td>\n",
       "      <td>3</td>\n",
       "      <td>TWK231306302</td>\n",
       "    </tr>\n",
       "  </tbody>\n",
       "</table>\n",
       "</div>"
      ],
      "text/plain": [
       "   song_id  length  genre  artist  composer  lyricist  language          isrc\n",
       "0     5981  273554    465     330      1787      1533         3  TWC950206108\n",
       "1     5767  228623    465     633       484      1057         3  TWA531398021\n",
       "2     8128  257602    458     777      1916      2115         3  TWAY31508002\n",
       "3     1992  199157    458     548      1011      1904         3  TWA471596001\n",
       "4     2665  246015    465     671      1407      1362         3  TWK231306302"
      ]
     },
     "execution_count": 17,
     "metadata": {},
     "output_type": "execute_result"
    }
   ],
   "source": [
    "song_info.head()"
   ]
  },
  {
   "cell_type": "code",
   "execution_count": 27,
   "metadata": {},
   "outputs": [
    {
     "data": {
      "text/html": [
       "<div>\n",
       "<style scoped>\n",
       "    .dataframe tbody tr th:only-of-type {\n",
       "        vertical-align: middle;\n",
       "    }\n",
       "\n",
       "    .dataframe tbody tr th {\n",
       "        vertical-align: top;\n",
       "    }\n",
       "\n",
       "    .dataframe thead th {\n",
       "        text-align: right;\n",
       "    }\n",
       "</style>\n",
       "<table border=\"1\" class=\"dataframe\">\n",
       "  <thead>\n",
       "    <tr style=\"text-align: right;\">\n",
       "      <th></th>\n",
       "      <th>user_id</th>\n",
       "      <th>song_id</th>\n",
       "      <th>rec_loc</th>\n",
       "      <th>rec_screen</th>\n",
       "      <th>entry</th>\n",
       "      <th>listen</th>\n",
       "      <th>length</th>\n",
       "      <th>genre</th>\n",
       "      <th>artist</th>\n",
       "      <th>composer</th>\n",
       "      <th>lyricist</th>\n",
       "      <th>language</th>\n",
       "      <th>isrc</th>\n",
       "    </tr>\n",
       "  </thead>\n",
       "  <tbody>\n",
       "    <tr>\n",
       "      <th>0</th>\n",
       "      <td>5</td>\n",
       "      <td>5</td>\n",
       "      <td>discover</td>\n",
       "      <td>Online playlist more</td>\n",
       "      <td>online-playlist</td>\n",
       "      <td>0</td>\n",
       "      <td>219150</td>\n",
       "      <td>465</td>\n",
       "      <td>55</td>\n",
       "      <td>960</td>\n",
       "      <td>520</td>\n",
       "      <td>17</td>\n",
       "      <td>JPB601402020</td>\n",
       "    </tr>\n",
       "    <tr>\n",
       "      <th>1</th>\n",
       "      <td>7</td>\n",
       "      <td>7</td>\n",
       "      <td>search</td>\n",
       "      <td>Search</td>\n",
       "      <td>song</td>\n",
       "      <td>1</td>\n",
       "      <td>320888</td>\n",
       "      <td>465</td>\n",
       "      <td>785</td>\n",
       "      <td>389</td>\n",
       "      <td>1078</td>\n",
       "      <td>3</td>\n",
       "      <td>TWA531530004</td>\n",
       "    </tr>\n",
       "    <tr>\n",
       "      <th>2</th>\n",
       "      <td>14</td>\n",
       "      <td>14</td>\n",
       "      <td>discover</td>\n",
       "      <td>Online playlist more</td>\n",
       "      <td>song-based-playlist</td>\n",
       "      <td>0</td>\n",
       "      <td>280868</td>\n",
       "      <td>465</td>\n",
       "      <td>603</td>\n",
       "      <td>1490</td>\n",
       "      <td>1449</td>\n",
       "      <td>3</td>\n",
       "      <td>TWA211650101</td>\n",
       "    </tr>\n",
       "    <tr>\n",
       "      <th>3</th>\n",
       "      <td>22</td>\n",
       "      <td>22</td>\n",
       "      <td>my library</td>\n",
       "      <td>Local playlist more</td>\n",
       "      <td>local-library</td>\n",
       "      <td>0</td>\n",
       "      <td>232907</td>\n",
       "      <td>444</td>\n",
       "      <td>66</td>\n",
       "      <td>570</td>\n",
       "      <td>517</td>\n",
       "      <td>31</td>\n",
       "      <td>TWA531600752</td>\n",
       "    </tr>\n",
       "    <tr>\n",
       "      <th>4</th>\n",
       "      <td>24</td>\n",
       "      <td>24</td>\n",
       "      <td>search</td>\n",
       "      <td>Online playlist more</td>\n",
       "      <td>online-playlist</td>\n",
       "      <td>0</td>\n",
       "      <td>296437</td>\n",
       "      <td>458</td>\n",
       "      <td>499</td>\n",
       "      <td>1384</td>\n",
       "      <td>1576</td>\n",
       "      <td>3</td>\n",
       "      <td>TWA470713001</td>\n",
       "    </tr>\n",
       "  </tbody>\n",
       "</table>\n",
       "</div>"
      ],
      "text/plain": [
       "   user_id  song_id     rec_loc            rec_screen                entry  \\\n",
       "0        5        5    discover  Online playlist more      online-playlist   \n",
       "1        7        7      search                Search                 song   \n",
       "2       14       14    discover  Online playlist more  song-based-playlist   \n",
       "3       22       22  my library   Local playlist more        local-library   \n",
       "4       24       24      search  Online playlist more      online-playlist   \n",
       "\n",
       "   listen  length  genre  artist  composer  lyricist  language          isrc  \n",
       "0       0  219150    465      55       960       520        17  JPB601402020  \n",
       "1       1  320888    465     785       389      1078         3  TWA531530004  \n",
       "2       0  280868    465     603      1490      1449         3  TWA211650101  \n",
       "3       0  232907    444      66       570       517        31  TWA531600752  \n",
       "4       0  296437    458     499      1384      1576         3  TWA470713001  "
      ]
     },
     "execution_count": 27,
     "metadata": {},
     "output_type": "execute_result"
    }
   ],
   "source": [
    "mem_tr_song.head()"
   ]
  },
  {
   "cell_type": "code",
   "execution_count": 80,
   "metadata": {
    "collapsed": true
   },
   "outputs": [],
   "source": [
    "# 차원축소 매소드 \n",
    "from sklearn.decomposition import PCA\n",
    "\n",
    "def dummy_to_pca(tr, column_name:str, features) :\n",
    "    max_seq = 300\n",
    "    max_d = 15\n",
    "    col_count = tr.groupby(column_name)[column_name].count()\n",
    "    if len(col_count) > max_seq:\n",
    "        tops = col_count.sort_values(ascending=False)[0:max_seq].index\n",
    "        f =tr.loc[tr[column_name].isin(tops)][['user_id', column_name]]\n",
    "    else:\n",
    "        tops = col_count.index\n",
    "        f =tr[['user_id', column_name]]\n",
    "    f = pd.get_dummies(f, columns=[column_name])  # This method performs One-hot-encoding\n",
    "    f = f.groupby('user_id').mean()\n",
    "    if len(tops) < max_d:\n",
    "        max_d = len(tops)\n",
    "    pca = PCA(n_components=max_d)\n",
    "    pca.fit(f)\n",
    "    cumsum = np.cumsum(pca.explained_variance_ratio_) #분산의 설명량을 누적합\n",
    "    #print(cumsum)\n",
    "    num_d = np.argmax(cumsum >= 0.99) + 1 # 분산의 설명량이 99%이상 되는 차원의 수\n",
    "    if num_d == 1:\n",
    "        num_d = max_d\n",
    "    pca = PCA(n_components=num_d)    \n",
    "    result = pca.fit_transform(f)\n",
    "    result = pd.DataFrame(result)\n",
    "    result.columns = [column_name + '_' + str(column) for column in result.columns]\n",
    "    result.index = f.index\n",
    "    return pd.concat([features, result], axis=1, join_axes=[features.index])\n",
    "#f = dummy_to_pca(tr, 'team_nm', f)\n",
    "#f"
   ]
  },
  {
   "cell_type": "code",
   "execution_count": null,
   "metadata": {
    "scrolled": true
   },
   "outputs": [
    {
     "name": "stderr",
     "output_type": "stream",
     "text": [
      "C:\\Users\\south\\Anaconda3\\lib\\site-packages\\ipykernel_launcher.py:4: SettingWithCopyWarning: \n",
      "A value is trying to be set on a copy of a slice from a DataFrame\n",
      "\n",
      "See the caveats in the documentation: http://pandas.pydata.org/pandas-docs/stable/indexing.html#indexing-view-versus-copy\n",
      "  after removing the cwd from sys.path.\n",
      "C:\\Users\\south\\Anaconda3\\lib\\site-packages\\ipykernel_launcher.py:6: SettingWithCopyWarning: \n",
      "A value is trying to be set on a copy of a slice from a DataFrame.\n",
      "Try using .loc[row_indexer,col_indexer] = value instead\n",
      "\n",
      "See the caveats in the documentation: http://pandas.pydata.org/pandas-docs/stable/indexing.html#indexing-view-versus-copy\n",
      "  \n",
      "C:\\Users\\south\\Anaconda3\\lib\\site-packages\\ipykernel_launcher.py:18: FutureWarning: 'user_id' is both an index level and a column label.\n",
      "Defaulting to column, but this will raise an ambiguity error in a future version\n"
     ]
    }
   ],
   "source": [
    "tr = mem_data[['user_id', 'city', 'reg_method', 'gender']] \n",
    "tr.index = tr.user_id\n",
    "# 경과일\n",
    "tr.loc['R_DAY'] = (pd.to_datetime('2017-12-31') - pd.to_datetime(mem_data.reg_date, format='%Y%m%d')).dt.days\n",
    "f = pd.to_datetime(mem_data.ex_date, format='%Y%m%d')\n",
    "tr['E_DAY'] = (f.max() - f).dt.days\n",
    "\n",
    "tr_gb = mem_tr_song.groupby('user_id').agg({'song_id':[('song_count','count')], \n",
    "                                    'listen':[('listen_sum', 'sum'), \n",
    "                                              ('listen_mean', 'mean' )],\n",
    "                                    'genre': [('genre_nunique', 'nunique')],\n",
    "                                    'artist': [('artist_nunique', 'nunique')],\n",
    "                                    'language': [('language_nunique', 'nunique')],\n",
    "                                   })\n",
    "tr_gb.columns = tr_gb.columns.get_level_values(1)\n",
    "tr_gb['user_id'] = tr_gb.index\n",
    "\n",
    "tr = tr.merge(tr_gb,  how=\"left\")\n",
    "tr = dummy_to_pca(mem_tr_song, 'rec_loc', tr)\n",
    "tr = dummy_to_pca(mem_tr_song, 'rec_screen', tr)\n",
    "tr = dummy_to_pca(mem_tr_song, 'entry', tr)\n",
    "tr = dummy_to_pca(mem_tr_song, 'genre', tr)\n",
    "tr = dummy_to_pca(mem_tr_song, 'artist', tr)\n",
    "tr = dummy_to_pca(mem_tr_song, 'composer', tr)\n",
    "tr = dummy_to_pca(mem_tr_song, 'lyricist', tr)\n",
    "tr = dummy_to_pca(mem_tr_song, 'language', tr)\n",
    "tr.head()"
   ]
  },
  {
   "cell_type": "code",
   "execution_count": null,
   "metadata": {
    "collapsed": true
   },
   "outputs": [],
   "source": []
  }
 ],
 "metadata": {
  "kernelspec": {
   "display_name": "Python 3",
   "language": "python",
   "name": "python3"
  },
  "language_info": {
   "codemirror_mode": {
    "name": "ipython",
    "version": 3
   },
   "file_extension": ".py",
   "mimetype": "text/x-python",
   "name": "python",
   "nbconvert_exporter": "python",
   "pygments_lexer": "ipython3",
   "version": "3.6.3"
  }
 },
 "nbformat": 4,
 "nbformat_minor": 2
}
