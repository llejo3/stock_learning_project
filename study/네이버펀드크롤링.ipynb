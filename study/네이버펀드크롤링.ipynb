{
 "cells": [
  {
   "cell_type": "code",
   "execution_count": 4,
   "metadata": {},
   "outputs": [],
   "source": [
    "import pandas as pd\n",
    "import os\n",
    "import requests\n",
    "import lxml.html"
   ]
  },
  {
   "cell_type": "code",
   "execution_count": 3,
   "metadata": {
    "collapsed": true
   },
   "outputs": [],
   "source": [
    "url = 'https://finance.naver.com/fund/fundFinderList.nhn?sortOrder=y1&search=AIN,T20,T21&pageSize=20&page={page}'"
   ]
  },
  {
   "cell_type": "code",
   "execution_count": 35,
   "metadata": {},
   "outputs": [],
   "source": [
    "data = []\n",
    "\n",
    "page = 1\n",
    "while True:\n",
    "    pg_url = url.format(page=page)\n",
    "    html = requests.get(pg_url)\n",
    "    doc = lxml.html.fromstring(html.content)\n",
    "    trs = doc.cssselect(\"table.tbl_fund > tbody > tr\")\n",
    "    if len(trs) == 0: \n",
    "        break\n",
    "    \n",
    "    for tr in trs:\n",
    "        tr_fund_name = tr.cssselect(\"table.tbl_fund_info thead tr th\")\n",
    "        fund_name = tr_fund_name[0].attrib['title']\n",
    "\n",
    "        values = [fund_name]\n",
    "        for td in tr[2:5]:\n",
    "            if len(td.cssselect(\"strong\")) == 0:\n",
    "                values.append(td.text)\n",
    "            else:\n",
    "                values.append(td.cssselect(\"strong\")[0].text)\n",
    "        data.append(values)\n",
    "    \n",
    "    page += 1\n",
    "    \n",
    "df_result = pd.DataFrame(data, columns=['펀드명', '1개월수익률', '3개월수익률', '1년수익률'])\n",
    "df_result.to_csv(\"fund_list.csv\")"
   ]
  }
 ],
 "metadata": {
  "kernelspec": {
   "display_name": "Python 3",
   "language": "python",
   "name": "python3"
  },
  "language_info": {
   "codemirror_mode": {
    "name": "ipython",
    "version": 3
   },
   "file_extension": ".py",
   "mimetype": "text/x-python",
   "name": "python",
   "nbconvert_exporter": "python",
   "pygments_lexer": "ipython3",
   "version": "3.6.5"
  }
 },
 "nbformat": 4,
 "nbformat_minor": 2
}
