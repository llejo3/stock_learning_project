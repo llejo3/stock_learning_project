{
 "cells": [
  {
   "cell_type": "markdown",
   "metadata": {},
   "source": [
    "## import"
   ]
  },
  {
   "cell_type": "code",
   "execution_count": 1,
   "metadata": {
    "collapsed": true
   },
   "outputs": [],
   "source": [
    "import tensorflow as tf"
   ]
  },
  {
   "cell_type": "code",
   "execution_count": 2,
   "metadata": {
    "collapsed": true
   },
   "outputs": [],
   "source": [
    "tf.enable_eager_execution()"
   ]
  },
  {
   "cell_type": "code",
   "execution_count": 3,
   "metadata": {
    "collapsed": true
   },
   "outputs": [],
   "source": [
    "import pandas as pd"
   ]
  },
  {
   "cell_type": "code",
   "execution_count": 26,
   "metadata": {
    "collapsed": true
   },
   "outputs": [],
   "source": [
    "import numpy as np"
   ]
  },
  {
   "cell_type": "markdown",
   "metadata": {},
   "source": [
    "## 데이터 불러오기"
   ]
  },
  {
   "cell_type": "code",
   "execution_count": 4,
   "metadata": {
    "collapsed": true
   },
   "outputs": [],
   "source": [
    "df = pd.read_csv('000270.csv')"
   ]
  },
  {
   "cell_type": "code",
   "execution_count": 5,
   "metadata": {},
   "outputs": [
    {
     "data": {
      "text/html": [
       "<div>\n",
       "<style scoped>\n",
       "    .dataframe tbody tr th:only-of-type {\n",
       "        vertical-align: middle;\n",
       "    }\n",
       "\n",
       "    .dataframe tbody tr th {\n",
       "        vertical-align: top;\n",
       "    }\n",
       "\n",
       "    .dataframe thead th {\n",
       "        text-align: right;\n",
       "    }\n",
       "</style>\n",
       "<table border=\"1\" class=\"dataframe\">\n",
       "  <thead>\n",
       "    <tr style=\"text-align: right;\">\n",
       "      <th></th>\n",
       "      <th>date</th>\n",
       "      <th>close</th>\n",
       "      <th>diff</th>\n",
       "      <th>open</th>\n",
       "      <th>high</th>\n",
       "      <th>low</th>\n",
       "      <th>volume</th>\n",
       "    </tr>\n",
       "  </thead>\n",
       "  <tbody>\n",
       "    <tr>\n",
       "      <th>0</th>\n",
       "      <td>1996.06.25</td>\n",
       "      <td>14300.0</td>\n",
       "      <td>0.0</td>\n",
       "      <td>14500.0</td>\n",
       "      <td>14500.0</td>\n",
       "      <td>14300.0</td>\n",
       "      <td>63430.0</td>\n",
       "    </tr>\n",
       "    <tr>\n",
       "      <th>1</th>\n",
       "      <td>1996.06.26</td>\n",
       "      <td>14100.0</td>\n",
       "      <td>200.0</td>\n",
       "      <td>14300.0</td>\n",
       "      <td>14300.0</td>\n",
       "      <td>14000.0</td>\n",
       "      <td>57270.0</td>\n",
       "    </tr>\n",
       "    <tr>\n",
       "      <th>2</th>\n",
       "      <td>1996.06.27</td>\n",
       "      <td>14400.0</td>\n",
       "      <td>300.0</td>\n",
       "      <td>14100.0</td>\n",
       "      <td>14600.0</td>\n",
       "      <td>14000.0</td>\n",
       "      <td>35870.0</td>\n",
       "    </tr>\n",
       "    <tr>\n",
       "      <th>3</th>\n",
       "      <td>1996.06.28</td>\n",
       "      <td>14500.0</td>\n",
       "      <td>100.0</td>\n",
       "      <td>14400.0</td>\n",
       "      <td>14700.0</td>\n",
       "      <td>14300.0</td>\n",
       "      <td>60850.0</td>\n",
       "    </tr>\n",
       "    <tr>\n",
       "      <th>4</th>\n",
       "      <td>1996.06.29</td>\n",
       "      <td>14400.0</td>\n",
       "      <td>100.0</td>\n",
       "      <td>14400.0</td>\n",
       "      <td>14600.0</td>\n",
       "      <td>14300.0</td>\n",
       "      <td>32310.0</td>\n",
       "    </tr>\n",
       "  </tbody>\n",
       "</table>\n",
       "</div>"
      ],
      "text/plain": [
       "         date    close   diff     open     high      low   volume\n",
       "0  1996.06.25  14300.0    0.0  14500.0  14500.0  14300.0  63430.0\n",
       "1  1996.06.26  14100.0  200.0  14300.0  14300.0  14000.0  57270.0\n",
       "2  1996.06.27  14400.0  300.0  14100.0  14600.0  14000.0  35870.0\n",
       "3  1996.06.28  14500.0  100.0  14400.0  14700.0  14300.0  60850.0\n",
       "4  1996.06.29  14400.0  100.0  14400.0  14600.0  14300.0  32310.0"
      ]
     },
     "execution_count": 5,
     "metadata": {},
     "output_type": "execute_result"
    }
   ],
   "source": [
    "df.head()"
   ]
  },
  {
   "cell_type": "markdown",
   "metadata": {},
   "source": [
    "## 가격 추이"
   ]
  },
  {
   "cell_type": "code",
   "execution_count": 8,
   "metadata": {
    "collapsed": true
   },
   "outputs": [],
   "source": [
    "%matplotlib inline"
   ]
  },
  {
   "cell_type": "code",
   "execution_count": 10,
   "metadata": {},
   "outputs": [
    {
     "data": {
      "text/plain": [
       "<matplotlib.axes._subplots.AxesSubplot at 0x1911268f2e8>"
      ]
     },
     "execution_count": 10,
     "metadata": {},
     "output_type": "execute_result"
    },
    {
     "data": {
      "image/png": "[encoded data removed]",
      "text/plain": [
       "<Figure size 432x288 with 1 Axes>"
      ]
     },
     "metadata": {},
     "output_type": "display_data"
    }
   ],
   "source": [
    "df['close'].plot()"
   ]
  },
  {
   "cell_type": "markdown",
   "metadata": {},
   "source": [
    "## 차분"
   ]
  },
  {
   "cell_type": "code",
   "execution_count": 12,
   "metadata": {},
   "outputs": [],
   "source": [
    "diff = df['close'] - df['open']"
   ]
  },
  {
   "cell_type": "code",
   "execution_count": 13,
   "metadata": {},
   "outputs": [
    {
     "data": {
      "text/plain": [
       "<matplotlib.axes._subplots.AxesSubplot at 0x191126f70b8>"
      ]
     },
     "execution_count": 13,
     "metadata": {},
     "output_type": "execute_result"
    },
    {
     "data": {
      "image/png": "[encoded data removed]",
      "text/plain": [
       "<Figure size 432x288 with 1 Axes>"
      ]
     },
     "metadata": {},
     "output_type": "display_data"
    }
   ],
   "source": [
    "diff.plot()"
   ]
  },
  {
   "cell_type": "code",
   "execution_count": 16,
   "metadata": {},
   "outputs": [
    {
     "data": {
      "text/plain": [
       "-12.58044333214158"
      ]
     },
     "execution_count": 16,
     "metadata": {},
     "output_type": "execute_result"
    }
   ],
   "source": [
    "diff.mean()"
   ]
  },
  {
   "cell_type": "code",
   "execution_count": 17,
   "metadata": {},
   "outputs": [
    {
     "data": {
      "text/plain": [
       "628.8719756767784"
      ]
     },
     "execution_count": 17,
     "metadata": {},
     "output_type": "execute_result"
    }
   ],
   "source": [
    "diff.std()"
   ]
  },
  {
   "cell_type": "code",
   "execution_count": 18,
   "metadata": {
    "collapsed": true
   },
   "outputs": [],
   "source": [
    "Z_diff = (diff - diff.mean()) / diff.std()"
   ]
  },
  {
   "cell_type": "markdown",
   "metadata": {},
   "source": [
    "## 입력 데이터 형식 변환"
   ]
  },
  {
   "cell_type": "code",
   "execution_count": 240,
   "metadata": {},
   "outputs": [],
   "source": [
    "input_data = np.reshape(Z_diff.values, (1, len(Z_diff), 1))"
   ]
  },
  {
   "cell_type": "code",
   "execution_count": 241,
   "metadata": {},
   "outputs": [
    {
     "data": {
      "text/plain": [
       "(1, 5594, 1)"
      ]
     },
     "execution_count": 241,
     "metadata": {},
     "output_type": "execute_result"
    }
   ],
   "source": [
    "input_data.shape"
   ]
  },
  {
   "cell_type": "markdown",
   "metadata": {},
   "source": [
    "## 모형"
   ]
  },
  {
   "cell_type": "code",
   "execution_count": 199,
   "metadata": {
    "collapsed": true
   },
   "outputs": [],
   "source": [
    "class StockTrader(tf.keras.models.Model):\n",
    "    def __init__(self):\n",
    "        super().__init__()\n",
    "        self.lstm = tf.contrib.rnn.BasicLSTMCell(16, dtype=tf.float32)\n",
    "        self.initial_state = lstm.zero_state(1, dtype=tf.float32)\n",
    "        self.action_layer = tf.keras.layers.TimeDistributed(tf.keras.layers.Dense(3))\n",
    "        \n",
    "    def __call__(self, input_data):\n",
    "        outputs, state = tf.nn.dynamic_rnn(\n",
    "            cell=self.lstm, \n",
    "            inputs=input_data.astype(np.float32),\n",
    "            initial_state=self.initial_state,\n",
    "            dtype=tf.float32)\n",
    "        return self.action_layer(outputs)[0]"
   ]
  },
  {
   "cell_type": "code",
   "execution_count": 200,
   "metadata": {},
   "outputs": [],
   "source": [
    "trader = StockTrader()"
   ]
  },
  {
   "cell_type": "code",
   "execution_count": 201,
   "metadata": {},
   "outputs": [],
   "source": [
    "logits = trader(input_data)"
   ]
  },
  {
   "cell_type": "markdown",
   "metadata": {},
   "source": [
    "## action"
   ]
  },
  {
   "cell_type": "code",
   "execution_count": 152,
   "metadata": {},
   "outputs": [],
   "source": [
    "action = tf.multinomial(logits, 1)[:, 0]"
   ]
  },
  {
   "cell_type": "code",
   "execution_count": 153,
   "metadata": {},
   "outputs": [
    {
     "data": {
      "text/plain": [
       "<tf.Tensor: id=858377, shape=(5594,), dtype=int64, numpy=array([0, 1, 2, ..., 0, 0, 1], dtype=int64)>"
      ]
     },
     "execution_count": 153,
     "metadata": {},
     "output_type": "execute_result"
    }
   ],
   "source": [
    "action"
   ]
  },
  {
   "cell_type": "markdown",
   "metadata": {},
   "source": [
    "- 0: 산다\n",
    "- 1: 보유\n",
    "- 2: 판다"
   ]
  },
  {
   "cell_type": "markdown",
   "metadata": {},
   "source": [
    "## reward"
   ]
  },
  {
   "cell_type": "code",
   "execution_count": 223,
   "metadata": {},
   "outputs": [],
   "source": [
    "def calc_reward(action, prices):\n",
    "    stock = 0\n",
    "    money = 1000000\n",
    "    reward = []\n",
    "    units = 10\n",
    "    for a, price in zip(action, df['close']):\n",
    "        if a.numpy() == 0:  # 산다\n",
    "            if money > price * units: # 살 돈이 있으면\n",
    "                stock += units  # 주식은 늘고\n",
    "                money -= price * units  # 돈은 줄어듦\n",
    "                reward.append(-price * units)\n",
    "            else:  # 살 돈이 없으면\n",
    "                reward.append(0)\n",
    "        elif a.numpy() == 1:  # 보유\n",
    "            reward.append(0)\n",
    "        else:  # 판다\n",
    "            if stock > 0:  # 주식이 있으면\n",
    "                stock -= units  # 주식은 줄고\n",
    "                money += price * units  # 돈은 늘어남\n",
    "                reward.append(price * units)\n",
    "            else:\n",
    "                reward.append(0)\n",
    "\n",
    "    reward[-1] += stock * price  # 기간 종료 후에는 청산\n",
    "    return reward"
   ]
  },
  {
   "cell_type": "code",
   "execution_count": 225,
   "metadata": {},
   "outputs": [],
   "source": [
    "reward = calc_reward(action, df['close'])"
   ]
  },
  {
   "cell_type": "code",
   "execution_count": 226,
   "metadata": {},
   "outputs": [
    {
     "data": {
      "text/plain": [
       "[<matplotlib.lines.Line2D at 0x191205bbef0>]"
      ]
     },
     "execution_count": 226,
     "metadata": {},
     "output_type": "execute_result"
    },
    {
     "data": {
      "image/png": "[encoded data removed]",
      "text/plain": [
       "<Figure size 432x288 with 1 Axes>"
      ]
     },
     "metadata": {},
     "output_type": "display_data"
    }
   ],
   "source": [
    "pyplot.plot(reward)"
   ]
  },
  {
   "cell_type": "markdown",
   "metadata": {},
   "source": [
    "## return"
   ]
  },
  {
   "cell_type": "code",
   "execution_count": 227,
   "metadata": {},
   "outputs": [],
   "source": [
    "def calc_returns(reward, discount=0.99):\n",
    "    returns = []\n",
    "\n",
    "    next_return = 0\n",
    "\n",
    "    for r in reversed(reward):\n",
    "        next_return = r + discount * next_return\n",
    "        returns.append(next_return)\n",
    "    \n",
    "    return np.array(returns[::-1])"
   ]
  },
  {
   "cell_type": "code",
   "execution_count": 228,
   "metadata": {},
   "outputs": [],
   "source": [
    "returns = calc_returns(reward)"
   ]
  },
  {
   "cell_type": "code",
   "execution_count": 233,
   "metadata": {
    "collapsed": true
   },
   "outputs": [],
   "source": [
    "norm_ret = returns / np.max(np.abs(returns))"
   ]
  },
  {
   "cell_type": "code",
   "execution_count": 160,
   "metadata": {},
   "outputs": [],
   "source": [
    "from matplotlib import pyplot"
   ]
  },
  {
   "cell_type": "code",
   "execution_count": 229,
   "metadata": {},
   "outputs": [
    {
     "data": {
      "text/plain": [
       "[<matplotlib.lines.Line2D at 0x1912038a4e0>]"
      ]
     },
     "execution_count": 229,
     "metadata": {},
     "output_type": "execute_result"
    },
    {
     "data": {
      "image/png": "[encoded data removed]",
      "text/plain": [
       "<Figure size 432x288 with 1 Axes>"
      ]
     },
     "metadata": {},
     "output_type": "display_data"
    }
   ],
   "source": [
    "pyplot.plot(returns)"
   ]
  },
  {
   "cell_type": "markdown",
   "metadata": {},
   "source": [
    "## 경사하강법"
   ]
  },
  {
   "cell_type": "code",
   "execution_count": 217,
   "metadata": {
    "collapsed": true
   },
   "outputs": [],
   "source": [
    "with tf.contrib.eager.GradientTape() as tape:\n",
    "    logits = trader(input_data)\n",
    "    log_p = tf.nn.sparse_softmax_cross_entropy_with_logits(labels=action, logits=logits)\n",
    "    target = tf.reduce_sum(norm_ret * log_p)"
   ]
  },
  {
   "cell_type": "code",
   "execution_count": 218,
   "metadata": {},
   "outputs": [],
   "source": [
    "grad = tape.gradient(target, trader.trainable_variables)"
   ]
  },
  {
   "cell_type": "code",
   "execution_count": 220,
   "metadata": {
    "collapsed": true
   },
   "outputs": [],
   "source": [
    "adam =  tf.train.AdamOptimizer()"
   ]
  },
  {
   "cell_type": "code",
   "execution_count": 222,
   "metadata": {},
   "outputs": [],
   "source": [
    "adam.apply_gradients(zip(grad, trader.trainable_variables))"
   ]
  },
  {
   "cell_type": "markdown",
   "metadata": {},
   "source": [
    "## 종합"
   ]
  },
  {
   "cell_type": "code",
   "execution_count": 234,
   "metadata": {},
   "outputs": [
    {
     "name": "stdout",
     "output_type": "stream",
     "text": [
      "-412514.5067844568\n",
      "-442839.2292264557\n",
      "-368545.10167523357\n",
      "-332874.1628170989\n",
      "-284393.73427200445\n",
      "-346377.2302135664\n",
      "-348431.4966338613\n",
      "-355848.80621549475\n",
      "-335405.574498042\n",
      "-454014.25379990827\n",
      "-180280.26111696698\n",
      "-340627.6592789969\n",
      "-297359.8737535939\n",
      "-277672.2249573391\n",
      "-231237.97525860253\n",
      "-210413.04301193432\n",
      "-377754.1999103571\n",
      "-396048.2083596708\n",
      "-402049.60935928667\n",
      "-223747.82219316068\n",
      "-344550.6071848131\n",
      "-337124.7932524029\n",
      "-174170.36560506572\n",
      "-175724.3279492116\n",
      "-522001.0106259631\n",
      "-126815.90936506024\n",
      "-254718.86612772074\n",
      "-232265.1054508829\n",
      "-145284.58018309783\n",
      "-165838.422733631\n"
     ]
    }
   ],
   "source": [
    "for _ in range(30):\n",
    "    logits = trader(input_data)\n",
    "    action = tf.multinomial(logits, 1)[:, 0]\n",
    "\n",
    "    reward = calc_reward(action, df['close'])\n",
    "    returns = calc_returns(reward)\n",
    "    print(returns[0])\n",
    "\n",
    "    norm_ret = norm_ret = returns / np.max(np.abs(returns))\n",
    "\n",
    "    with tf.contrib.eager.GradientTape() as tape:\n",
    "        logits = trader(input_data)\n",
    "        log_p = tf.nn.sparse_softmax_cross_entropy_with_logits(labels=action, logits=logits)\n",
    "        target = tf.reduce_sum(norm_ret * log_p)\n",
    "\n",
    "    grad = tape.gradient(target, trader.trainable_variables)\n",
    "\n",
    "    adam.apply_gradients(zip(grad, trader.trainable_variables))"
   ]
  }
 ],
 "metadata": {
  "kernelspec": {
   "display_name": "Python 3",
   "language": "python",
   "name": "python3"
  },
  "language_info": {
   "codemirror_mode": {
    "name": "ipython",
    "version": 3
   },
   "file_extension": ".py",
   "mimetype": "text/x-python",
   "name": "python",
   "nbconvert_exporter": "python",
   "pygments_lexer": "ipython3",
   "version": "3.6.3"
  }
 },
 "nbformat": 4,
 "nbformat_minor": 2
}
