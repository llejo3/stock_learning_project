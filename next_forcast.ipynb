{
 "cells": [
  {
   "cell_type": "code",
   "execution_count": 1,
   "metadata": {},
   "outputs": [
    {
     "name": "stdout",
     "output_type": "stream",
     "text": [
      "INFO:tensorflow:Restoring parameters from /home/U2017042/project/trains/../data/files/sessions/cnn/023790/023790.ckpt\n",
      "INFO:tensorflow:Restoring parameters from /home/U2017042/project/trains/../data/files/sessions/rnn/023790/023790.ckpt\n",
      "1 2018.11.14 023790 동일철강 0.004166770144365728 76 3709.9999999999995 5925.477753705346 59.72% 6811.668855187485\n",
      "INFO:tensorflow:Restoring parameters from /home/U2017042/project/trains/../data/files/sessions/cnn/031820/031820.ckpt\n",
      "INFO:tensorflow:Restoring parameters from /home/U2017042/project/trains/../data/files/sessions/rnn/031820/031820.ckpt\n",
      "2 2018.11.14 031820 콤텍시스템 0.008962293155491352 66 1340.0 1413.667867705226 5.50% 1443.1350147873163\n",
      "INFO:tensorflow:Restoring parameters from /home/U2017042/project/trains/../data/files/sessions/cnn/026150/026150.ckpt\n",
      "INFO:tensorflow:Restoring parameters from /home/U2017042/project/trains/../data/files/sessions/rnn/026150/026150.ckpt\n",
      "3 2018.11.14 026150 특수건설 0.030660413205623627 42 4785.0 5252.279212996365 9.77% 5439.19089819491\n",
      "INFO:tensorflow:Restoring parameters from /home/U2017042/project/trains/../data/files/sessions/cnn/000720/000720.ckpt\n",
      "INFO:tensorflow:Restoring parameters from /home/U2017042/project/trains/../data/files/sessions/rnn/000720/000720.ckpt\n",
      "4 2018.11.14 000720 현대건설 0.019017967395484447 347 49550.0 48334.919906765215 -2.45% 47848.8878694713\n",
      "INFO:tensorflow:Restoring parameters from /home/U2017042/project/trains/../data/files/sessions/cnn/028300/028300.ckpt\n",
      "INFO:tensorflow:Restoring parameters from /home/U2017042/project/trains/../data/files/sessions/rnn/028300/028300.ckpt\n",
      "5 2018.11.14 028300 에이치엘비 0.07915004901587963 68 83000.0 81521.8329385519 -1.78% 80930.56611397266\n"
     ]
    }
   ],
   "source": [
    "import next_forcast as nf\n",
    "nf.main([\"동일철강\", \"콤텍시스템\", \"특수건설\", \"현대건설\"], 'cnn_rnn')\n",
    "#nf.main([\"퍼스텍\"], 'cnn_rnn')"
   ]
  }
 ],
 "metadata": {
  "kernelspec": {
   "display_name": "Python 3",
   "language": "python",
   "name": "python3"
  },
  "language_info": {
   "codemirror_mode": {
    "name": "ipython",
    "version": 3
   },
   "file_extension": ".py",
   "mimetype": "text/x-python",
   "name": "python",
   "nbconvert_exporter": "python",
   "pygments_lexer": "ipython3",
   "version": "3.6.5"
  }
 },
 "nbformat": 4,
 "nbformat_minor": 2
}
